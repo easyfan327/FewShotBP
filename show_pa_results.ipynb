{
 "cells": [
  {
   "cell_type": "code",
   "execution_count": 2,
   "metadata": {},
   "outputs": [
    {
     "name": "stdout",
     "output_type": "stream",
     "text": [
      "models.PPGECGNet_V0e2x1b      , ubicomp23a-fixed-dense0, nn_afnohr , fixed     ,  5, 6.63, 3.43\n",
      "models.PPGECGNet_V0e2x1b      , ubicomp23a-fixed-dense0, nn        , fixed     ,  5, 6.64, 3.43\n",
      "models.PPGECGNet_V0e2x1b      , ubicomp23a-fixed-dense0, nn_afnohr , fixed     , 10, 6.16, 3.28\n",
      "models.PPGECGNet_V0e2x1b      , ubicomp23a-fixed-dense0, nn        , fixed     , 10, 6.16, 3.27\n",
      "models.PPGECGNet_V0e2x1b      , ubicomp23a-fixed-dense0, nn_afnohr , fixed     , 25, 5.48, 3.07\n",
      "models.PPGECGNet_V0e2x1b      , ubicomp23a-fixed-dense0, nn        , fixed     , 25, 5.49, 3.06\n",
      "models.PPGECGNet_V0e2x1b      , ubicomp23a-fixed-dense0, nn_afnohr , fixed     , 50, 4.78, 2.67\n",
      "models.PPGECGNet_V0e2x1b      , ubicomp23a-fixed-dense0, nn        , fixed     , 50, 4.83, 2.69\n"
     ]
    }
   ],
   "source": [
    "import pickle\n",
    "\n",
    "def read_pa_trial_dump(trial_dump_path):\n",
    "    trial_list = pickle.load(open(trial_dump_path, \"rb\"))\n",
    "    for trial in trial_list:\n",
    "        params, regressor_config, perf_baseline, perf_train, perf_valid, perf_all = trial\n",
    "        print(\"{:30s}, {:10s}, {:10s}, {:10s}, {:2d}, {:4.2f}, {:4.2f}\".format(\n",
    "            params['model'], params['expname'], params['regressor_input'], params['split_type'], params['train_n'], perf_valid.groups['global'].avg['sbp'], perf_valid.groups['global'].avg['dbp']))\n",
    "    return trial_list\n",
    "\n",
    "\n",
    "trial_list = read_pa_trial_dump(\"./records/pa2ucibp-env-ucibp/debug-PPGECGNet_V0e2x1b-2023_07_17-14_57_16_ubicomp23a-fixed-dense0.trialdump\")"
   ]
  }
 ],
 "metadata": {
  "kernelspec": {
   "display_name": "ucibp",
   "language": "python",
   "name": "python3"
  },
  "language_info": {
   "codemirror_mode": {
    "name": "ipython",
    "version": 3
   },
   "file_extension": ".py",
   "mimetype": "text/x-python",
   "name": "python",
   "nbconvert_exporter": "python",
   "pygments_lexer": "ipython3",
   "version": "3.7.0"
  },
  "orig_nbformat": 4
 },
 "nbformat": 4,
 "nbformat_minor": 2
}
